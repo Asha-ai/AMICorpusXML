{
  "nbformat": 4,
  "nbformat_minor": 0,
  "metadata": {
    "colab": {
      "name": "T5textsummarization.ipynb",
      "provenance": [],
      "authorship_tag": "ABX9TyPuKQo1AYJilRp5cbxR3NjY",
      "include_colab_link": true
    },
    "kernelspec": {
      "name": "python3",
      "display_name": "Python 3"
    },
    "accelerator": "TPU"
  },
  "cells": [
    {
      "cell_type": "markdown",
      "metadata": {
        "id": "view-in-github",
        "colab_type": "text"
      },
      "source": [
        "<a href=\"https://colab.research.google.com/github/Asha-ai/AMICorpusXML/blob/master/T5textsummarization.ipynb\" target=\"_parent\"><img src=\"https://colab.research.google.com/assets/colab-badge.svg\" alt=\"Open In Colab\"/></a>"
      ]
    },
    {
      "cell_type": "code",
      "metadata": {
        "id": "5-onZtJN9UyH",
        "colab_type": "code",
        "colab": {
          "base_uri": "https://localhost:8080/",
          "height": 147
        },
        "outputId": "d4ada918-b4e0-4ffc-dcb5-d435d0be8d1b"
      },
      "source": [
        "!pip install -U transformers\n",
        "!pip install -U torch\n",
        "import torch\n",
        "from transformers import T5Tokenizer, T5ForConditionalGeneration, T5Config\n",
        "\n",
        "model = T5ForConditionalGeneration.from_pretrained('t5-small')\n",
        "tokenizer = T5Tokenizer.from_pretrained('t5-small')\n",
        "device = torch.device('cpu')\n",
        "text =\"\"\"\n",
        "well this is the kick-off meeting for our our project. so we're designing a new remote control and, as you can see it's\n",
        " supposed to be original, trendy and user friendly. and so there are three different stages to the design. So we're gonna \n",
        " have like individual work and then a meeting about it. And repeat that process three times. So you get to draw your favourite \n",
        " animal and sum up your favourite characteristics of it. My favourite animal is like A beagle., right, well basically high priority \n",
        " for any animal for me is that they be willing to take a lot of physical affection from their family. And, yeah that they have lots of \"\"\"\n",
        "preprocess_text = text.strip().replace(\"\\n\",\"\")\n",
        "t5_prepared_Text = \"summarize: \"+preprocess_text\n",
        "print (\"original text preprocessed: \\n\", preprocess_text)\n",
        "tokenized_text = tokenizer.encode(t5_prepared_Text, return_tensors=\"pt\").to(device)\n",
        "# summmarize \n",
        "summary_ids = model.generate(tokenized_text,\n",
        "                                    num_beams=4,\n",
        "                                    no_repeat_ngram_size=2,\n",
        "                                    min_length=30,\n",
        "                                    max_length=100,\n",
        "                                    early_stopping=True)\n",
        "\n",
        "output = tokenizer.decode(summary_ids[0], skip_special_tokens=True)\n",
        "print (\"\\n\\nSummarized text: \\n\",output)"
      ],
      "execution_count": 6,
      "outputs": [
        {
          "output_type": "stream",
          "text": [
            "original text preprocessed: \n",
            " well this is the kick-off meeting for our our project. so we're designing a new remote control and, as you can see it's supposed to be original, trendy and user friendly. and so there are three different stages to the design. So we're gonna  have like individual work and then a meeting about it. And repeat that process three times. So you get to draw your favourite  animal and sum up your favourite characteristics of it. My favourite animal is like A beagle., right, well basically high priority  for any animal for me is that they be willing to take a lot of physical affection from their family. And, yeah that they have lots of\n",
            "\n",
            "\n",
            "Summarized text: \n",
            " a new remote control is supposed to be original, trendy and user friendly. so we're gonna have like individual work and then meeting about it three times. you get to draw your favourite animal and sum up your favorite characteristics of it.\n"
          ],
          "name": "stdout"
        }
      ]
    },
    {
      "cell_type": "code",
      "metadata": {
        "id": "2xwxtYzf9U1x",
        "colab_type": "code",
        "colab": {}
      },
      "source": [
        ""
      ],
      "execution_count": null,
      "outputs": []
    }
  ]
}